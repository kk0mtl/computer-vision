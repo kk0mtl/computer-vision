{
  "nbformat": 4,
  "nbformat_minor": 0,
  "metadata": {
    "colab": {
      "provenance": [],
      "collapsed_sections": [
        "0FicXTtBs-_6",
        "b6o8coKgqhBx",
        "RJTfYp3UqTsb"
      ],
      "authorship_tag": "ABX9TyPSDJAOeWjkFjsqTIChOzh7",
      "include_colab_link": true
    },
    "kernelspec": {
      "name": "python3",
      "display_name": "Python 3"
    },
    "language_info": {
      "name": "python"
    }
  },
  "cells": [
    {
      "cell_type": "markdown",
      "metadata": {
        "id": "view-in-github",
        "colab_type": "text"
      },
      "source": [
        "<a href=\"https://colab.research.google.com/github/kk0mtl/practice-zero/blob/main/%EC%8B%A4%EC%8A%B5zero.ipynb\" target=\"_parent\"><img src=\"https://colab.research.google.com/assets/colab-badge.svg\" alt=\"Open In Colab\"/></a>"
      ]
    },
    {
      "cell_type": "markdown",
      "source": [
        "## 2. 벡터, 행렬 연산, 그래프 그리기"
      ],
      "metadata": {
        "id": "0FicXTtBs-_6"
      }
    },
    {
      "cell_type": "code",
      "execution_count": null,
      "metadata": {
        "id": "BY6_GaGLlZjR"
      },
      "outputs": [],
      "source": [
        "import numpy as np"
      ]
    },
    {
      "cell_type": "code",
      "source": [
        "def print_val(x):\n",
        "  print(\"Type:\", type(x))\n",
        "  print(\"Shape:\", x.shape)\n",
        "  print(\"값:\\n\", x)\n",
        "  print(\"\")"
      ],
      "metadata": {
        "id": "u-8vVA_0hUm3"
      },
      "execution_count": null,
      "outputs": []
    },
    {
      "cell_type": "markdown",
      "source": [
        "###rank 1 np array"
      ],
      "metadata": {
        "id": "PWFSBg1lhi2g"
      }
    },
    {
      "cell_type": "code",
      "source": [
        "x = np.array([1,2,3])\n",
        "print_val(x)\n",
        "\n",
        "x[0] = 5\n",
        "print_val(x)"
      ],
      "metadata": {
        "colab": {
          "base_uri": "https://localhost:8080/"
        },
        "id": "8hvKELGxqGMh",
        "outputId": "98c25a56-6f5a-4149-c2b6-bccd2ee63934"
      },
      "execution_count": null,
      "outputs": [
        {
          "output_type": "stream",
          "name": "stdout",
          "text": [
            "Type: <class 'numpy.ndarray'>\n",
            "Shape: (3,)\n",
            "값:\n",
            " [1 2 3]\n",
            "\n",
            "Type: <class 'numpy.ndarray'>\n",
            "Shape: (3,)\n",
            "값:\n",
            " [5 2 3]\n",
            "\n"
          ]
        }
      ]
    },
    {
      "cell_type": "markdown",
      "source": [
        "###rank 2 np array"
      ],
      "metadata": {
        "id": "5ih2fdzIhqg7"
      }
    },
    {
      "cell_type": "code",
      "source": [
        "y = np.array([[1,2,3],[4,5,6]])\n",
        "print_val(y)"
      ],
      "metadata": {
        "colab": {
          "base_uri": "https://localhost:8080/"
        },
        "id": "feqAEPj8qeEb",
        "outputId": "5c61f97b-7d25-404b-d74c-09fa58262c0f"
      },
      "execution_count": null,
      "outputs": [
        {
          "output_type": "stream",
          "name": "stdout",
          "text": [
            "Type: <class 'numpy.ndarray'>\n",
            "Shape: (2, 3)\n",
            "값:\n",
            " [[1 2 3]\n",
            " [4 5 6]]\n",
            "\n"
          ]
        }
      ]
    },
    {
      "cell_type": "markdown",
      "source": [
        "#### rank 2 ones"
      ],
      "metadata": {
        "id": "PIoV1xxQkczR"
      }
    },
    {
      "cell_type": "code",
      "source": [
        "# 3x2 텐서를 1로 채우기\n",
        "a = np.ones((3,2))\n",
        "print_val(a)"
      ],
      "metadata": {
        "colab": {
          "base_uri": "https://localhost:8080/"
        },
        "id": "z4ZDvk_0qtpG",
        "outputId": "6d896108-db6a-4c68-acfc-31adc04f249c"
      },
      "execution_count": null,
      "outputs": [
        {
          "output_type": "stream",
          "name": "stdout",
          "text": [
            "Type: <class 'numpy.ndarray'>\n",
            "Shape: (3, 2)\n",
            "값:\n",
            " [[1. 1.]\n",
            " [1. 1.]\n",
            " [1. 1.]]\n",
            "\n"
          ]
        }
      ]
    },
    {
      "cell_type": "markdown",
      "source": [
        "#### rank 2 zeros"
      ],
      "metadata": {
        "id": "FUFfesZQknhr"
      }
    },
    {
      "cell_type": "code",
      "source": [
        "# 2x2 텐서를 0으로 초기화\n",
        "a = np.zeros((2,2))\n",
        "print_val(a)"
      ],
      "metadata": {
        "colab": {
          "base_uri": "https://localhost:8080/"
        },
        "id": "ILgFQ24QkVPh",
        "outputId": "5f4c1e6e-b24f-4e99-93b6-d42edb5a1719"
      },
      "execution_count": null,
      "outputs": [
        {
          "output_type": "stream",
          "name": "stdout",
          "text": [
            "Type: <class 'numpy.ndarray'>\n",
            "Shape: (2, 2)\n",
            "값:\n",
            " [[0. 0.]\n",
            " [0. 0.]]\n",
            "\n"
          ]
        }
      ]
    },
    {
      "cell_type": "markdown",
      "source": [
        "#### rank 2 단위행렬 (identity matrix)\n"
      ],
      "metadata": {
        "id": "sV6h89Y4kyML"
      }
    },
    {
      "cell_type": "code",
      "source": [
        "# 3x3 텐서를 단위행렬로 채우기\n",
        "a = np.eye(3,3)\n",
        "print_val(a)"
      ],
      "metadata": {
        "colab": {
          "base_uri": "https://localhost:8080/"
        },
        "id": "DlL6ptOmrVhg",
        "outputId": "74def605-4a01-413a-d166-a4396d6a245e"
      },
      "execution_count": null,
      "outputs": [
        {
          "output_type": "stream",
          "name": "stdout",
          "text": [
            "Type: <class 'numpy.ndarray'>\n",
            "Shape: (3, 3)\n",
            "값:\n",
            " [[1. 0. 0.]\n",
            " [0. 1. 0.]\n",
            " [0. 0. 1.]]\n",
            "\n"
          ]
        }
      ]
    },
    {
      "cell_type": "markdown",
      "source": [
        "### 랜덤 행렬"
      ],
      "metadata": {
        "id": "tEeutVp3lS-4"
      }
    },
    {
      "cell_type": "code",
      "source": [
        "# uniform : 0 ~ 1 사이의 모든 값들이 채택될 확률이 같음\n",
        "a = np.random.random((4,4))\n",
        "print_val(a)\n",
        "\n",
        "# Gaussian : 값이 채택될 확률이 0을 평균으로 하는 가우시안 분포를 따름\n",
        "# Gaussian dist : nomal dest\n",
        "a = np.random.randn((4 * 4))\n",
        "print_val(a)"
      ],
      "metadata": {
        "colab": {
          "base_uri": "https://localhost:8080/"
        },
        "id": "MnnHlc0Yr576",
        "outputId": "726dad05-f1f5-49a7-dad1-b8b9d65d9e65"
      },
      "execution_count": null,
      "outputs": [
        {
          "output_type": "stream",
          "name": "stdout",
          "text": [
            "Type: <class 'numpy.ndarray'>\n",
            "Shape: (4, 4)\n",
            "값:\n",
            " [[0.90109356 0.77889406 0.86124621 0.54175441]\n",
            " [0.47462456 0.49945087 0.8241584  0.62289107]\n",
            " [0.10596805 0.3631941  0.40868029 0.89572749]\n",
            " [0.85870236 0.29186728 0.33717317 0.79832979]]\n",
            "\n",
            "Type: <class 'numpy.ndarray'>\n",
            "Shape: (16,)\n",
            "값:\n",
            " [-0.12248359 -0.15631259  1.3045203  -2.89271838  0.92911166 -0.08717803\n",
            " -0.78714485 -0.6343659   1.22375332 -0.04361971  0.33839648  0.73087505\n",
            "  0.62377273  0.71326008  0.90012753 -0.46408582]\n",
            "\n"
          ]
        }
      ]
    },
    {
      "cell_type": "markdown",
      "source": [
        "### np array indexing"
      ],
      "metadata": {
        "id": "u1uWV60xl-SH"
      }
    },
    {
      "cell_type": "code",
      "source": [
        "a = np.array([[1,2,3,4],[5,6,7,8],[9,10,11,12]])\n",
        "print_val(a)\n",
        "\n",
        "# 행 0~1, 열 1~2\n",
        "b = a[:2, 1:3]\n",
        "print_val(b)\n",
        "\n",
        "# 행 1, 열 0~끝까지\n",
        "row1 = a[1, :]\n",
        "print_val(row1)"
      ],
      "metadata": {
        "colab": {
          "base_uri": "https://localhost:8080/"
        },
        "id": "Xs3pnjyWs-DM",
        "outputId": "8322fecc-f019-4bc5-ede2-1fe7e912a47a"
      },
      "execution_count": null,
      "outputs": [
        {
          "output_type": "stream",
          "name": "stdout",
          "text": [
            "Type: <class 'numpy.ndarray'>\n",
            "Shape: (3, 4)\n",
            "값:\n",
            " [[ 1  2  3  4]\n",
            " [ 5  6  7  8]\n",
            " [ 9 10 11 12]]\n",
            "\n",
            "Type: <class 'numpy.ndarray'>\n",
            "Shape: (2, 2)\n",
            "값:\n",
            " [[2 3]\n",
            " [6 7]]\n",
            "\n",
            "Type: <class 'numpy.ndarray'>\n",
            "Shape: (4,)\n",
            "값:\n",
            " [5 6 7 8]\n",
            "\n"
          ]
        }
      ]
    },
    {
      "cell_type": "markdown",
      "source": [
        "### 행렬 원소별 연산 (Element Wise)"
      ],
      "metadata": {
        "id": "E4Sp_DLZnaWO"
      }
    },
    {
      "cell_type": "code",
      "source": [
        "m1 = np.array([[1,2], [3,4]], dtype=np.float64)\n",
        "m2 = np.array([[5,6], [7,8]], dtype=np.float64)\n",
        "\n",
        "print_val(m1 + m2)\n",
        "print_val(np.add(m1, m2))\n",
        "\n",
        "print_val(m1 - m2)\n",
        "print_val(np.subtract(m1, m2))\n",
        "\n",
        "print_val(m1 * m2)\n",
        "print_val(np.multiply(m1, m2))\n",
        "\n",
        "print_val(m1 / m2)\n",
        "print_val(np.divide(m1, m2))\n",
        "\n",
        "print_val(np.sqrt(m1))"
      ],
      "metadata": {
        "colab": {
          "base_uri": "https://localhost:8080/"
        },
        "id": "gjuUwhAFuiSE",
        "outputId": "60fb1a73-9253-474f-def3-63fa9a0d6bf9"
      },
      "execution_count": null,
      "outputs": [
        {
          "output_type": "stream",
          "name": "stdout",
          "text": [
            "Type: <class 'numpy.ndarray'>\n",
            "Shape: (2, 2)\n",
            "값:\n",
            " [[ 6.  8.]\n",
            " [10. 12.]]\n",
            "\n",
            "Type: <class 'numpy.ndarray'>\n",
            "Shape: (2, 2)\n",
            "값:\n",
            " [[ 6.  8.]\n",
            " [10. 12.]]\n",
            "\n",
            "Type: <class 'numpy.ndarray'>\n",
            "Shape: (2, 2)\n",
            "값:\n",
            " [[-4. -4.]\n",
            " [-4. -4.]]\n",
            "\n",
            "Type: <class 'numpy.ndarray'>\n",
            "Shape: (2, 2)\n",
            "값:\n",
            " [[-4. -4.]\n",
            " [-4. -4.]]\n",
            "\n",
            "Type: <class 'numpy.ndarray'>\n",
            "Shape: (2, 2)\n",
            "값:\n",
            " [[ 5. 12.]\n",
            " [21. 32.]]\n",
            "\n",
            "Type: <class 'numpy.ndarray'>\n",
            "Shape: (2, 2)\n",
            "값:\n",
            " [[ 5. 12.]\n",
            " [21. 32.]]\n",
            "\n",
            "Type: <class 'numpy.ndarray'>\n",
            "Shape: (2, 2)\n",
            "값:\n",
            " [[0.2        0.33333333]\n",
            " [0.42857143 0.5       ]]\n",
            "\n",
            "Type: <class 'numpy.ndarray'>\n",
            "Shape: (2, 2)\n",
            "값:\n",
            " [[0.2        0.33333333]\n",
            " [0.42857143 0.5       ]]\n",
            "\n",
            "Type: <class 'numpy.ndarray'>\n",
            "Shape: (2, 2)\n",
            "값:\n",
            " [[1.         1.41421356]\n",
            " [1.73205081 2.        ]]\n",
            "\n"
          ]
        }
      ]
    },
    {
      "cell_type": "code",
      "source": [
        "m1 = np.array([[1,2], [3,4]])\n",
        "m2 = np.array([[5,6], [7,8]])\n",
        "v1 = np.array([9,10])\n",
        "v2 = np.array([11,12])\n",
        "\n",
        "print_val(m1)\n",
        "print_val(m2)\n",
        "print_val(v1)\n",
        "print_val(v2)"
      ],
      "metadata": {
        "colab": {
          "base_uri": "https://localhost:8080/"
        },
        "id": "-GFnjiPHv1dF",
        "outputId": "117ec9d6-99c3-472a-9a1c-4706e548bc36"
      },
      "execution_count": null,
      "outputs": [
        {
          "output_type": "stream",
          "name": "stdout",
          "text": [
            "Type: <class 'numpy.ndarray'>\n",
            "Shape: (2, 2)\n",
            "값:\n",
            " [[1 2]\n",
            " [3 4]]\n",
            "\n",
            "Type: <class 'numpy.ndarray'>\n",
            "Shape: (2, 2)\n",
            "값:\n",
            " [[5 6]\n",
            " [7 8]]\n",
            "\n",
            "Type: <class 'numpy.ndarray'>\n",
            "Shape: (2,)\n",
            "값:\n",
            " [ 9 10]\n",
            "\n",
            "Type: <class 'numpy.ndarray'>\n",
            "Shape: (2,)\n",
            "값:\n",
            " [11 12]\n",
            "\n"
          ]
        }
      ]
    },
    {
      "cell_type": "markdown",
      "source": [
        "#### 벡터 - 벡터 연산"
      ],
      "metadata": {
        "id": "cTzKA1PLobwN"
      }
    },
    {
      "cell_type": "code",
      "source": [
        "# 내적(dot product) 9*11 + 10*12\n",
        "print_val(v1.dot(v2))\n",
        "print_val(np.dot(v1, v2))"
      ],
      "metadata": {
        "colab": {
          "base_uri": "https://localhost:8080/"
        },
        "id": "USnFhEeYoZah",
        "outputId": "d5f1e6a3-5866-45e6-8036-590ffb666676"
      },
      "execution_count": null,
      "outputs": [
        {
          "output_type": "stream",
          "name": "stdout",
          "text": [
            "Type: <class 'numpy.int64'>\n",
            "Shape: ()\n",
            "값:\n",
            " 219\n",
            "\n",
            "Type: <class 'numpy.int64'>\n",
            "Shape: ()\n",
            "값:\n",
            " 219\n",
            "\n"
          ]
        }
      ]
    },
    {
      "cell_type": "markdown",
      "source": [
        "#### 벡터 - 행렬 연산"
      ],
      "metadata": {
        "id": "kPyehcErolRv"
      }
    },
    {
      "cell_type": "code",
      "source": [
        "# 열 벡터가 default\n",
        "# 1*9 + 2*10, 3*9 + 4*10\n",
        "print_val(m1.dot(v1))\n",
        "print_val(np.dot(m1, v1))"
      ],
      "metadata": {
        "colab": {
          "base_uri": "https://localhost:8080/"
        },
        "id": "Ll0VOqNozJUC",
        "outputId": "68d1f732-0918-4d40-d090-ba5b2d1b95d2"
      },
      "execution_count": null,
      "outputs": [
        {
          "output_type": "stream",
          "name": "stdout",
          "text": [
            "Type: <class 'numpy.ndarray'>\n",
            "Shape: (2,)\n",
            "값:\n",
            " [29 67]\n",
            "\n",
            "Type: <class 'numpy.ndarray'>\n",
            "Shape: (2,)\n",
            "값:\n",
            " [29 67]\n",
            "\n"
          ]
        }
      ]
    },
    {
      "cell_type": "markdown",
      "source": [
        "#### 행렬 - 행렬 연산"
      ],
      "metadata": {
        "id": "it8i3_rEo95J"
      }
    },
    {
      "cell_type": "code",
      "source": [
        "print_val(m1.dot(m2))\n",
        "print_val(np.dot(m1, m2))"
      ],
      "metadata": {
        "colab": {
          "base_uri": "https://localhost:8080/"
        },
        "id": "cHkbiQiVo11k",
        "outputId": "0ab17070-b46f-40bd-80b9-d57ecba18997"
      },
      "execution_count": null,
      "outputs": [
        {
          "output_type": "stream",
          "name": "stdout",
          "text": [
            "Type: <class 'numpy.ndarray'>\n",
            "Shape: (2, 2)\n",
            "값:\n",
            " [[19 22]\n",
            " [43 50]]\n",
            "\n",
            "Type: <class 'numpy.ndarray'>\n",
            "Shape: (2, 2)\n",
            "값:\n",
            " [[19 22]\n",
            " [43 50]]\n",
            "\n"
          ]
        }
      ]
    },
    {
      "cell_type": "markdown",
      "source": [
        "#### 전치 행렬 (transpose)"
      ],
      "metadata": {
        "id": "bE0FU4PvpBpo"
      }
    },
    {
      "cell_type": "code",
      "source": [
        "# T(transpose) : 대각 요소를 기준으로 나머지 요소 위치 바꿈\n",
        "print_val(m1)\n",
        "print_val(m1.T)"
      ],
      "metadata": {
        "colab": {
          "base_uri": "https://localhost:8080/"
        },
        "id": "5z7rAbqHo8St",
        "outputId": "e378a5a2-dace-43cd-a078-48f74ef7f558"
      },
      "execution_count": null,
      "outputs": [
        {
          "output_type": "stream",
          "name": "stdout",
          "text": [
            "Type: <class 'numpy.ndarray'>\n",
            "Shape: (2, 2)\n",
            "값:\n",
            " [[1 2]\n",
            " [3 4]]\n",
            "\n",
            "Type: <class 'numpy.ndarray'>\n",
            "Shape: (2, 2)\n",
            "값:\n",
            " [[1 3]\n",
            " [2 4]]\n",
            "\n"
          ]
        }
      ]
    },
    {
      "cell_type": "markdown",
      "source": [
        "#### 합\n",
        "\n"
      ],
      "metadata": {
        "id": "I1AZHGvgrLod"
      }
    },
    {
      "cell_type": "code",
      "source": [
        "# 모든 원소의 합\n",
        "print_val(np.sum(m1))\n",
        "\n",
        "# shape[0] => 열을 압축\n",
        "print_val(np.sum(m1, axis = 0))\n",
        "\n",
        "# shape[1] => 행을 압축\n",
        "print_val(np.sum(m1, axis = 1))"
      ],
      "metadata": {
        "colab": {
          "base_uri": "https://localhost:8080/"
        },
        "id": "bDKTSQDd0KLK",
        "outputId": "f07ec1b8-1e4f-4a88-b6bb-356e4208c410"
      },
      "execution_count": null,
      "outputs": [
        {
          "output_type": "stream",
          "name": "stdout",
          "text": [
            "Type: <class 'numpy.int64'>\n",
            "Shape: ()\n",
            "값:\n",
            " 10\n",
            "\n",
            "Type: <class 'numpy.ndarray'>\n",
            "Shape: (2,)\n",
            "값:\n",
            " [4 6]\n",
            "\n",
            "Type: <class 'numpy.ndarray'>\n",
            "Shape: (2,)\n",
            "값:\n",
            " [3 7]\n",
            "\n"
          ]
        }
      ]
    },
    {
      "cell_type": "code",
      "source": [
        "m1 = np.array([[1,2,3],\n",
        "               [4,5,6]])\n",
        "print(m1)\n",
        "print(m1.shape)\n",
        "\n",
        "print(np.sum(m1))\n",
        "print(np.sum(m1, axis=0)) # shape[0] 행 압축 : (2,3) => (3,)\n",
        "print(np.sum(m1, axis=1)) # shape[1] 열 압축 : (2,3) => (2,)"
      ],
      "metadata": {
        "colab": {
          "base_uri": "https://localhost:8080/"
        },
        "id": "0FfP_ab9pfsI",
        "outputId": "5dccfd55-bbc4-4290-ff21-b534be5bbc7a"
      },
      "execution_count": null,
      "outputs": [
        {
          "output_type": "stream",
          "name": "stdout",
          "text": [
            "[[1 2 3]\n",
            " [4 5 6]]\n",
            "(2, 3)\n",
            "21\n",
            "[5 7 9]\n",
            "[ 6 15]\n"
          ]
        }
      ]
    },
    {
      "cell_type": "markdown",
      "source": [
        "#### zeros-like"
      ],
      "metadata": {
        "id": "xpGZ3-m1qAGD"
      }
    },
    {
      "cell_type": "code",
      "source": [
        "m1 = np.array([[1,2,3],\n",
        "               [4,5,6],\n",
        "               [7,8,9],\n",
        "               [10,11,12]])\n",
        "\n",
        "# m1과 shape는 같지만 0으로 초기화된 np array\n",
        "m2 = np.zeros_like(m1)\n",
        "print_val(m1)\n",
        "print_val(m2)"
      ],
      "metadata": {
        "colab": {
          "base_uri": "https://localhost:8080/"
        },
        "id": "1HWld0_o0tPc",
        "outputId": "23a96081-7fb5-4a0c-e242-0b4dc475704a"
      },
      "execution_count": null,
      "outputs": [
        {
          "output_type": "stream",
          "name": "stdout",
          "text": [
            "Type: <class 'numpy.ndarray'>\n",
            "Shape: (4, 3)\n",
            "값:\n",
            " [[ 1  2  3]\n",
            " [ 4  5  6]\n",
            " [ 7  8  9]\n",
            " [10 11 12]]\n",
            "\n",
            "Type: <class 'numpy.ndarray'>\n",
            "Shape: (4, 3)\n",
            "값:\n",
            " [[0 0 0]\n",
            " [0 0 0]\n",
            " [0 0 0]\n",
            " [0 0 0]]\n",
            "\n"
          ]
        }
      ]
    },
    {
      "cell_type": "markdown",
      "source": [
        "### 그래프 그리기"
      ],
      "metadata": {
        "id": "n5gOLuL5qJet"
      }
    },
    {
      "cell_type": "code",
      "source": [
        "import matplotlib.pyplot as plt\n",
        "%matplotlib inline\n",
        "\n",
        "x = np.arange(0, 10, 0.1) # 0~9.9까지 0.1 간격의 숫자 배열\n",
        "y = np.sin(x)\n",
        "\n",
        "plt.plot(x, y)"
      ],
      "metadata": {
        "colab": {
          "base_uri": "https://localhost:8080/",
          "height": 447
        },
        "id": "Wg3ctz_91tQO",
        "outputId": "55e8f52d-5d3e-4ac6-c62d-d46e4e5b1de0"
      },
      "execution_count": null,
      "outputs": [
        {
          "output_type": "execute_result",
          "data": {
            "text/plain": [
              "[<matplotlib.lines.Line2D at 0x7cbd8d21b760>]"
            ]
          },
          "metadata": {},
          "execution_count": 20
        },
        {
          "output_type": "display_data",
          "data": {
            "text/plain": [
              "<Figure size 640x480 with 1 Axes>"
            ],
            "image/png": "[encoded data removed]"
          },
          "metadata": {}
        }
      ]
    },
    {
      "cell_type": "markdown",
      "source": [
        "#### 한 번에 두 개 그래프 그리기"
      ],
      "metadata": {
        "id": "b6o8coKgqhBx"
      }
    },
    {
      "cell_type": "code",
      "source": [
        "y_sin = np.sin(x)\n",
        "y_cos = np.cos(x)\n",
        "\n",
        "plt.plot(x, y_sin)\n",
        "plt.plot(x, y_cos)\n",
        "plt.xlabel(\"x axis label\")\n",
        "plt.ylabel(\"y axis label\")\n",
        "plt.title(\"sin and cos\")\n",
        "plt.legend([\"sin\", \"cos\"])\n",
        "\n",
        "plt.show()"
      ],
      "metadata": {
        "colab": {
          "base_uri": "https://localhost:8080/",
          "height": 472
        },
        "id": "ApP-P-VCqYgz",
        "outputId": "49cab0fa-53ca-4c4c-d55f-46e6cc01605f"
      },
      "execution_count": null,
      "outputs": [
        {
          "output_type": "display_data",
          "data": {
            "text/plain": [
              "<Figure size 640x480 with 1 Axes>"
            ],
            "image/png": "[encoded data removed]"
          },
          "metadata": {}
        }
      ]
    },
    {
      "cell_type": "markdown",
      "source": [
        "#### Subplot"
      ],
      "metadata": {
        "id": "RJTfYp3UqTsb"
      }
    },
    {
      "cell_type": "code",
      "source": [
        "# subplot : 하나의 그래프만 그리기\n",
        "plt.subplot(2,1,1)\n",
        "plt.plot(x,y_sin)\n",
        "plt.title(\"sin\")\n",
        "\n",
        "plt.subplot(2,1,2)\n",
        "plt.plot(x,y_cos)\n",
        "plt.title(\"cos\")\n",
        "\n",
        "plt.show()"
      ],
      "metadata": {
        "colab": {
          "base_uri": "https://localhost:8080/",
          "height": 469
        },
        "id": "9OTq1rr23SiB",
        "outputId": "6582ee7a-a18d-44ba-a7c3-fb83dd67319e"
      },
      "execution_count": null,
      "outputs": [
        {
          "output_type": "execute_result",
          "data": {
            "text/plain": [
              "Text(0.5, 1.0, 'cos')"
            ]
          },
          "metadata": {},
          "execution_count": 45
        },
        {
          "output_type": "display_data",
          "data": {
            "text/plain": [
              "<Figure size 640x480 with 2 Axes>"
            ],
            "image/png": "[encoded data removed]"
          },
          "metadata": {}
        }
      ]
    },
    {
      "cell_type": "markdown",
      "source": [
        "## 3. 파이토치 기초"
      ],
      "metadata": {
        "id": "hGcqmmLetrzA"
      }
    },
    {
      "cell_type": "code",
      "source": [
        "import torch"
      ],
      "metadata": {
        "id": "aEEi7Ea2v8ww"
      },
      "execution_count": null,
      "outputs": []
    },
    {
      "cell_type": "code",
      "source": [
        "# (w, h, channel)\n",
        "x = torch.rand(2,3,2)\n",
        "print_val(x)\n",
        "\n",
        "# Gaussian dist\n",
        "x = torch.randn(2,3)\n",
        "print_val(x)"
      ],
      "metadata": {
        "colab": {
          "base_uri": "https://localhost:8080/"
        },
        "id": "Ix_OHbSZw8vn",
        "outputId": "51e4e991-cb6b-40da-ecfa-c2c24c5d19da"
      },
      "execution_count": null,
      "outputs": [
        {
          "output_type": "stream",
          "name": "stdout",
          "text": [
            "Type: <class 'torch.Tensor'>\n",
            "Shape: torch.Size([2, 3, 2])\n",
            "값:\n",
            " tensor([[[0.2839, 0.2620],\n",
            "         [0.3415, 0.4200],\n",
            "         [0.0592, 0.0155]],\n",
            "\n",
            "        [[0.2989, 0.1469],\n",
            "         [0.8942, 0.0975],\n",
            "         [0.5876, 0.5442]]])\n",
            "\n",
            "Type: <class 'torch.Tensor'>\n",
            "Shape: torch.Size([2, 3])\n",
            "값:\n",
            " tensor([[ 0.0631, -0.0286, -1.4463],\n",
            "        [-0.3789,  0.3043,  2.6879]])\n",
            "\n"
          ]
        }
      ]
    },
    {
      "cell_type": "code",
      "source": [
        "# randperm : 0 ~ n-1까지의 값을 원소로 갖는 랜덤 배열\n",
        "x = torch.randperm(4)\n",
        "print_val(x)"
      ],
      "metadata": {
        "colab": {
          "base_uri": "https://localhost:8080/"
        },
        "id": "CH1yh5hGxEpE",
        "outputId": "6ac2ef62-d60a-440e-e86a-1b9464b3ea6f"
      },
      "execution_count": null,
      "outputs": [
        {
          "output_type": "stream",
          "name": "stdout",
          "text": [
            "Type: <class 'torch.Tensor'>\n",
            "Shape: torch.Size([4])\n",
            "값:\n",
            " tensor([0, 1, 2, 3])\n",
            "\n"
          ]
        }
      ]
    },
    {
      "cell_type": "code",
      "source": [
        "# (start, end, step) 구간을 step 단위로 나누어 배열 생성\n",
        "x = torch.arange(0,3,step=0.5)\n",
        "print_val(x)"
      ],
      "metadata": {
        "colab": {
          "base_uri": "https://localhost:8080/"
        },
        "id": "oEaYNf7ExGDg",
        "outputId": "43ad3699-4f98-4f6b-f41a-b0abc0023c03"
      },
      "execution_count": null,
      "outputs": [
        {
          "output_type": "stream",
          "name": "stdout",
          "text": [
            "Type: <class 'torch.Tensor'>\n",
            "Shape: torch.Size([6])\n",
            "값:\n",
            " tensor([0.0000, 0.5000, 1.0000, 1.5000, 2.0000, 2.5000])\n",
            "\n"
          ]
        }
      ]
    },
    {
      "cell_type": "code",
      "source": [
        "print_val(torch.ones(3,4))\n",
        "print_val(torch.zeros(3,4))\n",
        "\n",
        "print_val(torch.Tensor(2,4))\n",
        "print_val(torch.Tensor([2,4]))  # [] : 원소, () : shape\n",
        "print_val(torch.Tensor([[2,4],[3,4]]))"
      ],
      "metadata": {
        "colab": {
          "base_uri": "https://localhost:8080/"
        },
        "id": "Hp39RNPlxvcG",
        "outputId": "8a6f7404-47c3-47c2-b637-d4011a10e599"
      },
      "execution_count": null,
      "outputs": [
        {
          "output_type": "stream",
          "name": "stdout",
          "text": [
            "Type: <class 'torch.Tensor'>\n",
            "Shape: torch.Size([3, 4])\n",
            "값:\n",
            " tensor([[1., 1., 1., 1.],\n",
            "        [1., 1., 1., 1.],\n",
            "        [1., 1., 1., 1.]])\n",
            "\n",
            "Type: <class 'torch.Tensor'>\n",
            "Shape: torch.Size([3, 4])\n",
            "값:\n",
            " tensor([[0., 0., 0., 0.],\n",
            "        [0., 0., 0., 0.],\n",
            "        [0., 0., 0., 0.]])\n",
            "\n",
            "Type: <class 'torch.Tensor'>\n",
            "Shape: torch.Size([2, 4])\n",
            "값:\n",
            " tensor([[4.4932e+20, 7.0065e-45, 0.0000e+00, 0.0000e+00],\n",
            "        [0.0000e+00, 0.0000e+00, 0.0000e+00, 0.0000e+00]])\n",
            "\n",
            "Type: <class 'torch.Tensor'>\n",
            "Shape: torch.Size([2])\n",
            "값:\n",
            " tensor([2., 4.])\n",
            "\n",
            "Type: <class 'torch.Tensor'>\n",
            "Shape: torch.Size([2, 2])\n",
            "값:\n",
            " tensor([[2., 4.],\n",
            "        [3., 4.]])\n",
            "\n"
          ]
        }
      ]
    },
    {
      "cell_type": "code",
      "source": [
        "# 텐서의 자료형을 float로 변환\n",
        "x = torch.FloatTensor(2,3)\n",
        "print_val(x)\n",
        "\n",
        "# float -> int\n",
        "x = x.type_as(torch.IntTensor())\n",
        "print_val(x)\n",
        "\n",
        "# 텐서 shape 출력\n",
        "torch.FloatTensor(3,4,5).size()"
      ],
      "metadata": {
        "colab": {
          "base_uri": "https://localhost:8080/"
        },
        "id": "195eUGH1v9ku",
        "outputId": "8479ec8f-4290-4719-f965-942b815f3471"
      },
      "execution_count": null,
      "outputs": [
        {
          "output_type": "stream",
          "name": "stdout",
          "text": [
            "Type: <class 'torch.Tensor'>\n",
            "Shape: torch.Size([2, 3])\n",
            "값:\n",
            " tensor([[-2.2789e+11,  4.4748e-41,  8.3896e-11],\n",
            "        [ 3.0890e-41,  4.4842e-44,  0.0000e+00]])\n",
            "\n",
            "Type: <class 'torch.Tensor'>\n",
            "Shape: torch.Size([2, 3])\n",
            "값:\n",
            " tensor([[-2147483648,           0,           0],\n",
            "        [          0,           0,           0]], dtype=torch.int32)\n",
            "\n"
          ]
        },
        {
          "output_type": "execute_result",
          "data": {
            "text/plain": [
              "torch.Size([3, 4, 5])"
            ]
          },
          "metadata": {},
          "execution_count": 28
        }
      ]
    },
    {
      "cell_type": "code",
      "source": [
        "import numpy as np\n",
        "np_x = np.ndarray((2,3), dtype=int)\n",
        "print_val(np_x)\n",
        "\n",
        "# 타입변환 : ndarray를 torch 텐서로 변환\n",
        "# gpu 연산을 위해 필요\n",
        "x = torch.from_numpy(np_x)\n",
        "print_val(x)"
      ],
      "metadata": {
        "colab": {
          "base_uri": "https://localhost:8080/"
        },
        "id": "PAhdVH2ywGVs",
        "outputId": "e2749537-7612-448c-9995-9f4fcf99139b"
      },
      "execution_count": null,
      "outputs": [
        {
          "output_type": "stream",
          "name": "stdout",
          "text": [
            "Type: <class 'numpy.ndarray'>\n",
            "Shape: (2, 3)\n",
            "값:\n",
            " [[4603768440082491274 4599746475415270122 4603768440082491274]\n",
            " [4616227022951663505 4617969634532479176 4599746475415270122]]\n",
            "\n",
            "Type: <class 'torch.Tensor'>\n",
            "Shape: torch.Size([2, 3])\n",
            "값:\n",
            " tensor([[4603768440082491274, 4599746475415270122, 4603768440082491274],\n",
            "        [4616227022951663505, 4617969634532479176, 4599746475415270122]])\n",
            "\n"
          ]
        }
      ]
    },
    {
      "cell_type": "markdown",
      "source": [
        "## 4. MNIST 데이터로드"
      ],
      "metadata": {
        "id": "_UwdyUD1y9En"
      }
    },
    {
      "cell_type": "code",
      "source": [
        "import torchvision.datasets as dset\n",
        "import torchvision.transforms as transforms\n",
        "from torch.utils.data import DataLoader\n",
        "from torch.autograd import Variable\n",
        "import matplotlib.pyplot as plt\n",
        "%matplotlib inline"
      ],
      "metadata": {
        "id": "MCqZWp_izBh1"
      },
      "execution_count": null,
      "outputs": []
    },
    {
      "cell_type": "code",
      "source": [
        "# MNIST 로드 (학습 데이터 가져오기)\n",
        "mnist_train = dset.MNIST(\"\", train=True, transform=transforms.ToTensor(),\n",
        "                         target_transform=None, download=True)\n",
        "\n",
        "# MNIST data shpae 출력\n",
        "image, label = mnist_train.__getitem__(0)\n",
        "print(image.size(), label)  #(w, h, channel)\n",
        "\n",
        "image, label = mnist_train[1]\n",
        "print(image.size(), label)\n",
        "\n",
        "# 테스트 데이터 길이 출력\n",
        "print(mnist_train.__len__())\n",
        "print(\"mnist_train 길이 : \", len(mnist_train))\n",
        "\n",
        "print(mnist_train[0][1])\n",
        "print(mnist_train[0][0].size())\n",
        "\n",
        "# pyplot 사용을 위해 torch -> numpy로 변환\n",
        "for i in range(3):\n",
        "  img = mnist_train[i][0].numpy()\n",
        "  print(\"label:\", mnist_train[i][1])\n",
        "  plt.title(\"label : %d\" %mnist_train[i][1])\n",
        "  plt.imshow(img[0], cmap=\"gray\")\n",
        "  plt.show()"
      ],
      "metadata": {
        "colab": {
          "base_uri": "https://localhost:8080/",
          "height": 1000
        },
        "id": "cnVSkaOSzHcC",
        "outputId": "7ba107c1-a3d3-4047-c381-9c4e58000aba"
      },
      "execution_count": null,
      "outputs": [
        {
          "output_type": "stream",
          "name": "stdout",
          "text": [
            "Downloading http://yann.lecun.com/exdb/mnist/train-images-idx3-ubyte.gz\n",
            "Downloading http://yann.lecun.com/exdb/mnist/train-images-idx3-ubyte.gz to MNIST/raw/train-images-idx3-ubyte.gz\n"
          ]
        },
        {
          "output_type": "stream",
          "name": "stderr",
          "text": [
            "100%|██████████| 9912422/9912422 [00:00<00:00, 209859631.14it/s]"
          ]
        },
        {
          "output_type": "stream",
          "name": "stdout",
          "text": [
            "Extracting MNIST/raw/train-images-idx3-ubyte.gz to MNIST/raw\n"
          ]
        },
        {
          "output_type": "stream",
          "name": "stderr",
          "text": [
            "\n"
          ]
        },
        {
          "output_type": "stream",
          "name": "stdout",
          "text": [
            "\n",
            "Downloading http://yann.lecun.com/exdb/mnist/train-labels-idx1-ubyte.gz\n",
            "Downloading http://yann.lecun.com/exdb/mnist/train-labels-idx1-ubyte.gz to MNIST/raw/train-labels-idx1-ubyte.gz\n"
          ]
        },
        {
          "output_type": "stream",
          "name": "stderr",
          "text": [
            "100%|██████████| 28881/28881 [00:00<00:00, 29416147.12it/s]\n"
          ]
        },
        {
          "output_type": "stream",
          "name": "stdout",
          "text": [
            "Extracting MNIST/raw/train-labels-idx1-ubyte.gz to MNIST/raw\n",
            "\n",
            "Downloading http://yann.lecun.com/exdb/mnist/t10k-images-idx3-ubyte.gz\n",
            "Downloading http://yann.lecun.com/exdb/mnist/t10k-images-idx3-ubyte.gz to MNIST/raw/t10k-images-idx3-ubyte.gz\n"
          ]
        },
        {
          "output_type": "stream",
          "name": "stderr",
          "text": [
            "100%|██████████| 1648877/1648877 [00:00<00:00, 80334205.26it/s]"
          ]
        },
        {
          "output_type": "stream",
          "name": "stdout",
          "text": [
            "Extracting MNIST/raw/t10k-images-idx3-ubyte.gz to MNIST/raw\n",
            "\n",
            "Downloading http://yann.lecun.com/exdb/mnist/t10k-labels-idx1-ubyte.gz\n"
          ]
        },
        {
          "output_type": "stream",
          "name": "stderr",
          "text": [
            "\n"
          ]
        },
        {
          "output_type": "stream",
          "name": "stdout",
          "text": [
            "Downloading http://yann.lecun.com/exdb/mnist/t10k-labels-idx1-ubyte.gz to MNIST/raw/t10k-labels-idx1-ubyte.gz\n"
          ]
        },
        {
          "output_type": "stream",
          "name": "stderr",
          "text": [
            "100%|██████████| 4542/4542 [00:00<00:00, 12110952.81it/s]\n"
          ]
        },
        {
          "output_type": "stream",
          "name": "stdout",
          "text": [
            "Extracting MNIST/raw/t10k-labels-idx1-ubyte.gz to MNIST/raw\n",
            "\n",
            "torch.Size([1, 28, 28]) 5\n",
            "torch.Size([1, 28, 28]) 0\n",
            "60000\n",
            "mnist_train 길이 :  60000\n",
            "5\n",
            "torch.Size([1, 28, 28])\n",
            "label: 5\n"
          ]
        },
        {
          "output_type": "display_data",
          "data": {
            "text/plain": [
              "<Figure size 640x480 with 1 Axes>"
            ],
            "image/png": "[encoded data removed]"
          },
          "metadata": {}
        },
        {
          "output_type": "stream",
          "name": "stdout",
          "text": [
            "label: 0\n"
          ]
        },
        {
          "output_type": "display_data",
          "data": {
            "text/plain": [
              "<Figure size 640x480 with 1 Axes>"
            ],
            "image/png": "[encoded data removed]"
          },
          "metadata": {}
        },
        {
          "output_type": "stream",
          "name": "stdout",
          "text": [
            "label: 4\n"
          ]
        },
        {
          "output_type": "display_data",
          "data": {
            "text/plain": [
              "<Figure size 640x480 with 1 Axes>"
            ],
            "image/png": "[encoded data removed]"
          },
          "metadata": {}
        }
      ]
    },
    {
      "cell_type": "code",
      "source": [
        "# 학습 데이터셋 가져오기\n",
        "mnist_train = dset.MNIST(\"\", train=True, transform=transforms.ToTensor(),\n",
        "                         target_transform=None, download=True)\n",
        "# 테스트 데이터셋 가져오기\n",
        "mnist_test = dset.MNIST(\"\", train=False, transform=transforms.ToTensor(),\n",
        "                         target_transform=None, download=True)"
      ],
      "metadata": {
        "id": "gD8tZHSS0X0W"
      },
      "execution_count": null,
      "outputs": []
    },
    {
      "cell_type": "code",
      "source": [
        "print(\"mnist_train 길이 : \", len(mnist_train))\n",
        "print(\"mnist_train 길이 : \", len(mnist_test))\n",
        "\n",
        "image, label = mnist_train.__getitem__(0)\n",
        "print(\"image data 형태 : \", image.size())\n",
        "print(\"label : \", label)\n",
        "\n",
        "img = image.numpy()\n",
        "plt.title(\"label : %d\" % label)\n",
        "plt.imshow(img[0], cmap=\"gray\")\n",
        "plt.show()"
      ],
      "metadata": {
        "colab": {
          "base_uri": "https://localhost:8080/",
          "height": 521
        },
        "id": "3cblGCl-0w0r",
        "outputId": "fa73d699-ac74-4b3a-df74-dd54d89a7f9a"
      },
      "execution_count": null,
      "outputs": [
        {
          "output_type": "stream",
          "name": "stdout",
          "text": [
            "mnist_train 길이 :  60000\n",
            "mnist_train 길이 :  10000\n",
            "image data 형태 :  torch.Size([1, 28, 28])\n",
            "label :  5\n"
          ]
        },
        {
          "output_type": "display_data",
          "data": {
            "text/plain": [
              "<Figure size 640x480 with 1 Axes>"
            ],
            "image/png": "[encoded data removed]"
          },
          "metadata": {}
        }
      ]
    },
    {
      "cell_type": "code",
      "source": [
        "# batch size 단위로 나뉘어 데이터 로드\n",
        "batch_size = 16"
      ],
      "metadata": {
        "id": "AR_rDl7W1psV"
      },
      "execution_count": null,
      "outputs": []
    },
    {
      "cell_type": "code",
      "source": [
        "# 인덱스가 섞인 img, label쌍의 리스트 1600개만 가져오기\n",
        "# data / batch_size => 나누어 떨어지지 않는 경우, 나머지는 버리기\n",
        "train_loader = torch.utils.data.DataLoader(list(mnist_train)[:batch_size*100], batch_size=batch_size,\n",
        "                                           shuffle=True, num_workers=2, drop_last=True)\n",
        "\n",
        "# test data의 경우 반드시 shuffle = False\n",
        "test_loader = torch.utils.data.DataLoader((mnist_test), batch_size=batch_size,\n",
        "                                           shuffle=False, num_workers=2, drop_last=True)"
      ],
      "metadata": {
        "id": "nkjphTYg1sSD"
      },
      "execution_count": null,
      "outputs": []
    },
    {
      "cell_type": "code",
      "source": [
        "n = 3\n",
        "\n",
        "# loop 한 번에 16개씩 불러오기\n",
        "for i, [imgs, labels] in enumerate(test_loader):\n",
        "  if i > 5:\n",
        "    break\n",
        "  print(\"[%d]\" % i)\n",
        "  print(\"한 번에 로드되는 데이터 크기 : \", len(imgs))\n",
        "\n",
        "  # imgs(type : tensor) 16개를 Variable 형식에 담겨서 x로 리턴\n",
        "  x = Variable(imgs) # GPU 가속을 받기위해서는 .cuda() 붙이기\n",
        "  x = x.reshape((x.shape[0], x.shape[2], x.shape[3]))\n",
        "  y_=Variable(labels)\n",
        "\n",
        "  print(x.shape)\n",
        "  print(y_.shape)\n",
        "\n",
        "  for j in range(n):\n",
        "    img = imgs[j].numpy()\n",
        "    img = img.reshape((img.shape[1], img.shape[2]))\n",
        "\n",
        "    plt.subplot(1, n, j+1)\n",
        "    plt.imshow(img, cmap = \"gray\")\n",
        "    plt.title(\"label : %d\" % labels[j])\n",
        "  plt.show()"
      ],
      "metadata": {
        "colab": {
          "base_uri": "https://localhost:8080/",
          "height": 1000
        },
        "id": "4QTnwF-z2Q-2",
        "outputId": "d45e4c23-01bc-4256-e17c-2f69a3b050cc"
      },
      "execution_count": null,
      "outputs": [
        {
          "output_type": "stream",
          "name": "stderr",
          "text": [
            "/usr/lib/python3.10/multiprocessing/popen_fork.py:66: RuntimeWarning: os.fork() was called. os.fork() is incompatible with multithreaded code, and JAX is multithreaded, so this will likely lead to a deadlock.\n",
            "  self.pid = os.fork()\n"
          ]
        },
        {
          "output_type": "stream",
          "name": "stdout",
          "text": [
            "[0]\n",
            "한 번에 로드되는 데이터 크기 :  16\n",
            "torch.Size([16, 28, 28])\n",
            "torch.Size([16])\n"
          ]
        },
        {
          "output_type": "display_data",
          "data": {
            "text/plain": [
              "<Figure size 640x480 with 3 Axes>"
            ],
            "image/png": "[encoded data removed]"
          },
          "metadata": {}
        },
        {
          "output_type": "stream",
          "name": "stdout",
          "text": [
            "[1]\n",
            "한 번에 로드되는 데이터 크기 :  16\n",
            "torch.Size([16, 28, 28])\n",
            "torch.Size([16])\n"
          ]
        },
        {
          "output_type": "display_data",
          "data": {
            "text/plain": [
              "<Figure size 640x480 with 3 Axes>"
            ],
            "image/png": "[encoded data removed]"
          },
          "metadata": {}
        },
        {
          "output_type": "stream",
          "name": "stdout",
          "text": [
            "[2]\n",
            "한 번에 로드되는 데이터 크기 :  16\n",
            "torch.Size([16, 28, 28])\n",
            "torch.Size([16])\n"
          ]
        },
        {
          "output_type": "display_data",
          "data": {
            "text/plain": [
              "<Figure size 640x480 with 3 Axes>"
            ],
            "image/png": "[encoded data removed]"
          },
          "metadata": {}
        },
        {
          "output_type": "stream",
          "name": "stdout",
          "text": [
            "[3]\n",
            "한 번에 로드되는 데이터 크기 :  16\n",
            "torch.Size([16, 28, 28])\n",
            "torch.Size([16])\n"
          ]
        },
        {
          "output_type": "display_data",
          "data": {
            "text/plain": [
              "<Figure size 640x480 with 3 Axes>"
            ],
            "image/png": "[encoded data removed]"
          },
          "metadata": {}
        },
        {
          "output_type": "stream",
          "name": "stdout",
          "text": [
            "[4]\n",
            "한 번에 로드되는 데이터 크기 :  16\n",
            "torch.Size([16, 28, 28])\n",
            "torch.Size([16])\n"
          ]
        },
        {
          "output_type": "display_data",
          "data": {
            "text/plain": [
              "<Figure size 640x480 with 3 Axes>"
            ],
            "image/png": "[encoded data removed]"
          },
          "metadata": {}
        },
        {
          "output_type": "stream",
          "name": "stdout",
          "text": [
            "[5]\n",
            "한 번에 로드되는 데이터 크기 :  16\n",
            "torch.Size([16, 28, 28])\n",
            "torch.Size([16])\n"
          ]
        },
        {
          "output_type": "display_data",
          "data": {
            "text/plain": [
              "<Figure size 640x480 with 3 Axes>"
            ],
            "image/png": "[encoded data removed]"
          },
          "metadata": {}
        },
        {
          "output_type": "stream",
          "name": "stderr",
          "text": [
            "/usr/lib/python3.10/multiprocessing/popen_fork.py:66: RuntimeWarning: os.fork() was called. os.fork() is incompatible with multithreaded code, and JAX is multithreaded, so this will likely lead to a deadlock.\n",
            "  self.pid = os.fork()\n"
          ]
        }
      ]
    }
  ]
}