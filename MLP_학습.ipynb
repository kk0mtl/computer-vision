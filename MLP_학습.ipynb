{
  "nbformat": 4,
  "nbformat_minor": 0,
  "metadata": {
    "colab": {
      "provenance": [],
      "authorship_tag": "ABX9TyNlQd0O8ObRwfDzg3kURVhQ",
      "include_colab_link": true
    },
    "kernelspec": {
      "name": "python3",
      "display_name": "Python 3"
    },
    "language_info": {
      "name": "python"
    }
  },
  "cells": [
    {
      "cell_type": "markdown",
      "metadata": {
        "id": "view-in-github",
        "colab_type": "text"
      },
      "source": [
        "<a href=\"https://colab.research.google.com/github/kk0mtl/computer-vision/blob/mlp-learning/MLP_%ED%95%99%EC%8A%B5.ipynb\" target=\"_parent\"><img src=\"https://colab.research.google.com/assets/colab-badge.svg\" alt=\"Open In Colab\"/></a>"
      ]
    },
    {
      "cell_type": "code",
      "execution_count": 1,
      "metadata": {
        "id": "mwbqY8dIoOE7"
      },
      "outputs": [],
      "source": [
        "import torch\n",
        "import torch.nn as nn\n",
        "import torch.optim as optim\n",
        "import torchvision.datasets as dset\n",
        "import torchvision.transforms as transforms\n",
        "from torch.utils.data import DataLoader\n",
        "from torch.autograd import Variable\n",
        "import matplotlib.pyplot as plt\n",
        "%matplotlib inline\n",
        "import numpy as np"
      ]
    },
    {
      "cell_type": "code",
      "source": [
        "mnist_train = dset.MNIST(\"\", train=True, transform=transforms.ToTensor(),\n",
        "                         target_transform=None, download=True)\n",
        "mnist_test = dset.MNIST(\"\", train=False, transform=transforms.ToTensor(),\n",
        "                         target_transform=None, download=True)"
      ],
      "metadata": {
        "colab": {
          "base_uri": "https://localhost:8080/"
        },
        "id": "1wfA9ebFo6uC",
        "outputId": "1cac43aa-4128-4692-cb4c-289092520a96"
      },
      "execution_count": 2,
      "outputs": [
        {
          "output_type": "stream",
          "name": "stdout",
          "text": [
            "Downloading http://yann.lecun.com/exdb/mnist/train-images-idx3-ubyte.gz\n",
            "Failed to download (trying next):\n",
            "HTTP Error 403: Forbidden\n",
            "\n",
            "Downloading https://ossci-datasets.s3.amazonaws.com/mnist/train-images-idx3-ubyte.gz\n",
            "Downloading https://ossci-datasets.s3.amazonaws.com/mnist/train-images-idx3-ubyte.gz to MNIST/raw/train-images-idx3-ubyte.gz\n"
          ]
        },
        {
          "output_type": "stream",
          "name": "stderr",
          "text": [
            "100%|██████████| 9912422/9912422 [00:01<00:00, 5516645.22it/s] \n"
          ]
        },
        {
          "output_type": "stream",
          "name": "stdout",
          "text": [
            "Extracting MNIST/raw/train-images-idx3-ubyte.gz to MNIST/raw\n",
            "\n",
            "Downloading http://yann.lecun.com/exdb/mnist/train-labels-idx1-ubyte.gz\n",
            "Failed to download (trying next):\n",
            "HTTP Error 403: Forbidden\n",
            "\n",
            "Downloading https://ossci-datasets.s3.amazonaws.com/mnist/train-labels-idx1-ubyte.gz\n",
            "Downloading https://ossci-datasets.s3.amazonaws.com/mnist/train-labels-idx1-ubyte.gz to MNIST/raw/train-labels-idx1-ubyte.gz\n"
          ]
        },
        {
          "output_type": "stream",
          "name": "stderr",
          "text": [
            "100%|██████████| 28881/28881 [00:00<00:00, 152684.03it/s]\n"
          ]
        },
        {
          "output_type": "stream",
          "name": "stdout",
          "text": [
            "Extracting MNIST/raw/train-labels-idx1-ubyte.gz to MNIST/raw\n",
            "\n",
            "Downloading http://yann.lecun.com/exdb/mnist/t10k-images-idx3-ubyte.gz\n",
            "Failed to download (trying next):\n",
            "HTTP Error 403: Forbidden\n",
            "\n",
            "Downloading https://ossci-datasets.s3.amazonaws.com/mnist/t10k-images-idx3-ubyte.gz\n",
            "Downloading https://ossci-datasets.s3.amazonaws.com/mnist/t10k-images-idx3-ubyte.gz to MNIST/raw/t10k-images-idx3-ubyte.gz\n"
          ]
        },
        {
          "output_type": "stream",
          "name": "stderr",
          "text": [
            "100%|██████████| 1648877/1648877 [00:01<00:00, 1496042.74it/s]\n"
          ]
        },
        {
          "output_type": "stream",
          "name": "stdout",
          "text": [
            "Extracting MNIST/raw/t10k-images-idx3-ubyte.gz to MNIST/raw\n",
            "\n",
            "Downloading http://yann.lecun.com/exdb/mnist/t10k-labels-idx1-ubyte.gz\n",
            "Failed to download (trying next):\n",
            "HTTP Error 403: Forbidden\n",
            "\n",
            "Downloading https://ossci-datasets.s3.amazonaws.com/mnist/t10k-labels-idx1-ubyte.gz\n",
            "Downloading https://ossci-datasets.s3.amazonaws.com/mnist/t10k-labels-idx1-ubyte.gz to MNIST/raw/t10k-labels-idx1-ubyte.gz\n"
          ]
        },
        {
          "output_type": "stream",
          "name": "stderr",
          "text": [
            "100%|██████████| 4542/4542 [00:00<00:00, 5599802.69it/s]\n"
          ]
        },
        {
          "output_type": "stream",
          "name": "stdout",
          "text": [
            "Extracting MNIST/raw/t10k-labels-idx1-ubyte.gz to MNIST/raw\n",
            "\n"
          ]
        }
      ]
    },
    {
      "cell_type": "code",
      "source": [
        "print(\"mnist_train 길이: \", len(mnist_train))\n",
        "print(\"mnist_test 길이: \", len(mnist_test))\n",
        "\n",
        "image, label = mnist_train.__getitem__(0)\n",
        "print(\"image data 형태 : \", image.size())\n",
        "print(\"label : \", label)\n",
        "\n",
        "img = image.numpy()\n",
        "plt.title(\"label : %d\" % label)\n",
        "plt.imshow(img[0], cmap=\"gray\")\n",
        "plt.show()"
      ],
      "metadata": {
        "colab": {
          "base_uri": "https://localhost:8080/",
          "height": 521
        },
        "id": "kc4bgzQhpWnm",
        "outputId": "936cab55-79d1-44ea-bf99-7a66c83ad9fb"
      },
      "execution_count": 3,
      "outputs": [
        {
          "output_type": "stream",
          "name": "stdout",
          "text": [
            "mnist_train 길이:  60000\n",
            "mnist_test 길이:  10000\n",
            "image data 형태 :  torch.Size([1, 28, 28])\n",
            "label :  5\n"
          ]
        },
        {
          "output_type": "display_data",
          "data": {
            "text/plain": [
              "<Figure size 640x480 with 1 Axes>"
            ],
            "image/png": "[encoded data removed]"
          },
          "metadata": {}
        }
      ]
    },
    {
      "cell_type": "code",
      "source": [
        "# hyper parameters\n",
        "batch_size = 1024\n",
        "learning_rate = 0.01\n",
        "num_epoch = 400"
      ],
      "metadata": {
        "id": "IfuyNTxCqEVf"
      },
      "execution_count": 4,
      "outputs": []
    },
    {
      "cell_type": "code",
      "source": [
        "train_loader = torch.utils.data.DataLoader(mnist_train,\n",
        "                                          batch_size=batch_size,\n",
        "                                          shuffle=True, num_workers=2,\n",
        "                                          drop_last=True)\n",
        "\n",
        "# 검증을 위해 suffle=False\n",
        "test_loader = torch.utils.data.DataLoader(mnist_test,\n",
        "                                          batch_size=batch_size,\n",
        "                                          shuffle=False, num_workers=2,\n",
        "                                          drop_last=True)"
      ],
      "metadata": {
        "id": "5KnY1eXLqNv_"
      },
      "execution_count": 5,
      "outputs": []
    },
    {
      "cell_type": "code",
      "source": [
        "n = 3\n",
        "for i, [imgs, labels] in enumerate(test_loader):\n",
        "  if i>5:\n",
        "    break\n",
        "\n",
        "  print(\"[%d]\"% i)\n",
        "  print(\"한 번에 로드되는 데이터 크기 : \" , len(imgs))\n",
        "\n",
        "  for j in range(n):\n",
        "    img = imgs[j].numpy()\n",
        "    img = img.reshape((img.shape[1], img.shape[2]))\n",
        "    print(img.shape)\n",
        "\n",
        "    plt.subplot(1, n, j + 1)\n",
        "    plt.imshow(img,cmap=\"gray\")\n",
        "    plt.title(\"label : %d\" % labels[j])\n",
        "  plt.show()"
      ],
      "metadata": {
        "colab": {
          "base_uri": "https://localhost:8080/",
          "height": 1000
        },
        "id": "L5xYJR8uqtEn",
        "outputId": "15a997d2-f200-45c9-d3ed-7c9f33f3d257"
      },
      "execution_count": 6,
      "outputs": [
        {
          "output_type": "stream",
          "name": "stderr",
          "text": [
            "/usr/lib/python3.10/multiprocessing/popen_fork.py:66: RuntimeWarning: os.fork() was called. os.fork() is incompatible with multithreaded code, and JAX is multithreaded, so this will likely lead to a deadlock.\n",
            "  self.pid = os.fork()\n"
          ]
        },
        {
          "output_type": "stream",
          "name": "stdout",
          "text": [
            "[0]\n",
            "한 번에 로드되는 데이터 크기 :  1024\n",
            "(28, 28)\n",
            "(28, 28)\n",
            "(28, 28)\n"
          ]
        },
        {
          "output_type": "display_data",
          "data": {
            "text/plain": [
              "<Figure size 640x480 with 3 Axes>"
            ],
            "image/png": "[encoded data removed]"
          },
          "metadata": {}
        },
        {
          "output_type": "stream",
          "name": "stdout",
          "text": [
            "[1]\n",
            "한 번에 로드되는 데이터 크기 :  1024\n",
            "(28, 28)\n",
            "(28, 28)\n",
            "(28, 28)\n"
          ]
        },
        {
          "output_type": "display_data",
          "data": {
            "text/plain": [
              "<Figure size 640x480 with 3 Axes>"
            ],
            "image/png": "[encoded data removed]"
          },
          "metadata": {}
        },
        {
          "output_type": "stream",
          "name": "stdout",
          "text": [
            "[2]\n",
            "한 번에 로드되는 데이터 크기 :  1024\n",
            "(28, 28)\n",
            "(28, 28)\n",
            "(28, 28)\n"
          ]
        },
        {
          "output_type": "display_data",
          "data": {
            "text/plain": [
              "<Figure size 640x480 with 3 Axes>"
            ],
            "image/png": "[encoded data removed]"
          },
          "metadata": {}
        },
        {
          "output_type": "stream",
          "name": "stdout",
          "text": [
            "[3]\n",
            "한 번에 로드되는 데이터 크기 :  1024\n",
            "(28, 28)\n",
            "(28, 28)\n",
            "(28, 28)\n"
          ]
        },
        {
          "output_type": "display_data",
          "data": {
            "text/plain": [
              "<Figure size 640x480 with 3 Axes>"
            ],
            "image/png": "[encoded data removed]"
          },
          "metadata": {}
        },
        {
          "output_type": "stream",
          "name": "stdout",
          "text": [
            "[4]\n",
            "한 번에 로드되는 데이터 크기 :  1024\n",
            "(28, 28)\n",
            "(28, 28)\n",
            "(28, 28)\n"
          ]
        },
        {
          "output_type": "display_data",
          "data": {
            "text/plain": [
              "<Figure size 640x480 with 3 Axes>"
            ],
            "image/png": "[encoded data removed]"
          },
          "metadata": {}
        },
        {
          "output_type": "stream",
          "name": "stdout",
          "text": [
            "[5]\n",
            "한 번에 로드되는 데이터 크기 :  1024\n",
            "(28, 28)\n",
            "(28, 28)\n",
            "(28, 28)\n"
          ]
        },
        {
          "output_type": "display_data",
          "data": {
            "text/plain": [
              "<Figure size 640x480 with 3 Axes>"
            ],
            "image/png": "[encoded data removed]"
          },
          "metadata": {}
        }
      ]
    },
    {
      "cell_type": "code",
      "source": [
        "# 모델 선언\n",
        "# 퍼셉트론(2 hidden layers)\n",
        "# 유닛의 개수 : 784 -> 256 -> 128 -> 10\n",
        "model = nn.Sequential(\n",
        "    nn.Linear(28*28,256),   # Fully Connected Layer\n",
        "    nn.Sigmoid(),           # activation function\n",
        "    nn.Linear(256,128),\n",
        "    nn.Linear(128,10),\n",
        ")\n",
        "\n",
        "# 파라미터 출력\n",
        "# 784 * 256 + 256(bias)\n",
        "# 256 * 128 + 128(bias)\n",
        "# 128 * 10 + 10(bias)\n",
        "print(list(model.parameters()))"
      ],
      "metadata": {
        "colab": {
          "base_uri": "https://localhost:8080/"
        },
        "id": "4AbZNqBbsCh3",
        "outputId": "23bd9e79-07c0-4916-8c76-b6ee6d175891"
      },
      "execution_count": 7,
      "outputs": [
        {
          "output_type": "stream",
          "name": "stdout",
          "text": [
            "[Parameter containing:\n",
            "tensor([[-0.0142,  0.0188, -0.0264,  ..., -0.0279,  0.0214,  0.0137],\n",
            "        [ 0.0020, -0.0311, -0.0236,  ..., -0.0064, -0.0092,  0.0230],\n",
            "        [ 0.0048,  0.0273,  0.0009,  ...,  0.0292, -0.0228,  0.0120],\n",
            "        ...,\n",
            "        [-0.0240,  0.0313,  0.0114,  ...,  0.0105, -0.0046, -0.0210],\n",
            "        [-0.0018, -0.0275,  0.0104,  ..., -0.0308, -0.0144,  0.0032],\n",
            "        [-0.0037,  0.0070,  0.0274,  ..., -0.0260, -0.0346, -0.0184]],\n",
            "       requires_grad=True), Parameter containing:\n",
            "tensor([-0.0262,  0.0054,  0.0228,  0.0205, -0.0163,  0.0225, -0.0266,  0.0052,\n",
            "        -0.0185, -0.0208, -0.0236, -0.0135, -0.0217, -0.0131,  0.0135, -0.0320,\n",
            "         0.0300,  0.0026, -0.0032,  0.0071, -0.0108, -0.0262,  0.0087, -0.0268,\n",
            "         0.0325,  0.0153,  0.0267, -0.0315, -0.0140, -0.0102,  0.0349, -0.0026,\n",
            "        -0.0019, -0.0160, -0.0002,  0.0319, -0.0064,  0.0156, -0.0049,  0.0052,\n",
            "         0.0020, -0.0335, -0.0327,  0.0173, -0.0207, -0.0117, -0.0232,  0.0025,\n",
            "        -0.0346,  0.0116,  0.0231,  0.0282, -0.0244,  0.0339,  0.0017,  0.0158,\n",
            "        -0.0306,  0.0257,  0.0035, -0.0281,  0.0168, -0.0057, -0.0017, -0.0216,\n",
            "        -0.0235,  0.0004, -0.0132, -0.0242,  0.0176, -0.0172, -0.0118,  0.0336,\n",
            "        -0.0124,  0.0356, -0.0321, -0.0235,  0.0246,  0.0275,  0.0335, -0.0076,\n",
            "         0.0048,  0.0050,  0.0300,  0.0338,  0.0042, -0.0272, -0.0291, -0.0310,\n",
            "        -0.0080, -0.0165,  0.0132,  0.0024,  0.0340,  0.0108,  0.0095,  0.0022,\n",
            "        -0.0253, -0.0192,  0.0010, -0.0044,  0.0160,  0.0339,  0.0221,  0.0004,\n",
            "        -0.0333, -0.0344,  0.0343, -0.0022,  0.0312, -0.0016, -0.0207,  0.0017,\n",
            "        -0.0182,  0.0231, -0.0053,  0.0290, -0.0012, -0.0340,  0.0209,  0.0208,\n",
            "         0.0055, -0.0265, -0.0057, -0.0048, -0.0038, -0.0026, -0.0046, -0.0292,\n",
            "         0.0194,  0.0277,  0.0186,  0.0337, -0.0231, -0.0233, -0.0007,  0.0065,\n",
            "        -0.0100, -0.0176, -0.0352,  0.0311,  0.0173,  0.0180,  0.0168,  0.0299,\n",
            "        -0.0022, -0.0042,  0.0025, -0.0175,  0.0008, -0.0318,  0.0349,  0.0278,\n",
            "         0.0179,  0.0067, -0.0152,  0.0194,  0.0225, -0.0292, -0.0212,  0.0264,\n",
            "         0.0139, -0.0276, -0.0014, -0.0250,  0.0123,  0.0211,  0.0225, -0.0011,\n",
            "        -0.0140,  0.0290, -0.0272, -0.0192, -0.0027,  0.0222,  0.0252, -0.0168,\n",
            "        -0.0244,  0.0325,  0.0083, -0.0178, -0.0110, -0.0023,  0.0167, -0.0347,\n",
            "         0.0239, -0.0094,  0.0215, -0.0323,  0.0159,  0.0311, -0.0262,  0.0140,\n",
            "         0.0090,  0.0298, -0.0054, -0.0250,  0.0035,  0.0292, -0.0034,  0.0026,\n",
            "         0.0345,  0.0267,  0.0031,  0.0097,  0.0345,  0.0006,  0.0272, -0.0110,\n",
            "         0.0326, -0.0141, -0.0097,  0.0035, -0.0203,  0.0247,  0.0093, -0.0114,\n",
            "        -0.0172,  0.0340, -0.0273,  0.0200, -0.0005, -0.0287, -0.0042, -0.0164,\n",
            "         0.0152,  0.0287,  0.0230, -0.0276,  0.0080, -0.0269,  0.0099, -0.0011,\n",
            "         0.0051, -0.0004,  0.0152, -0.0228,  0.0150, -0.0229, -0.0140,  0.0323,\n",
            "         0.0138, -0.0120, -0.0127,  0.0234, -0.0151,  0.0335,  0.0137,  0.0336,\n",
            "         0.0177,  0.0171,  0.0210,  0.0150,  0.0094, -0.0004,  0.0232,  0.0094],\n",
            "       requires_grad=True), Parameter containing:\n",
            "tensor([[ 4.0730e-02, -1.6385e-02, -9.2233e-03,  ..., -2.3143e-02,\n",
            "         -3.6391e-02, -3.3749e-02],\n",
            "        [ 5.5356e-03,  8.3697e-03, -4.0235e-02,  ...,  3.3055e-02,\n",
            "          2.4955e-02, -2.0781e-02],\n",
            "        [-1.1824e-02, -5.5492e-05, -4.7127e-02,  ..., -2.0842e-02,\n",
            "          5.1947e-02, -2.6160e-02],\n",
            "        ...,\n",
            "        [ 1.4594e-02,  4.3234e-02, -3.9675e-02,  ...,  5.2776e-02,\n",
            "          6.2375e-02, -7.8455e-04],\n",
            "        [-1.8504e-03, -2.0192e-03,  3.3819e-02,  ...,  5.3588e-03,\n",
            "          2.0451e-02, -4.4456e-02],\n",
            "        [ 3.2961e-03, -1.0057e-02,  1.8952e-03,  ...,  4.6193e-02,\n",
            "          2.5934e-02, -2.5355e-03]], requires_grad=True), Parameter containing:\n",
            "tensor([ 0.0450,  0.0003,  0.0072,  0.0267, -0.0090, -0.0260,  0.0333, -0.0090,\n",
            "         0.0411, -0.0571,  0.0020,  0.0267,  0.0276,  0.0246,  0.0618, -0.0330,\n",
            "        -0.0548, -0.0523,  0.0197, -0.0603, -0.0056,  0.0328,  0.0201, -0.0339,\n",
            "        -0.0084,  0.0189,  0.0549, -0.0461, -0.0560,  0.0612,  0.0481,  0.0419,\n",
            "        -0.0393,  0.0178, -0.0091,  0.0130, -0.0038,  0.0533, -0.0465, -0.0466,\n",
            "        -0.0201,  0.0552,  0.0400,  0.0139, -0.0596, -0.0135, -0.0054,  0.0602,\n",
            "         0.0039,  0.0303,  0.0137, -0.0165,  0.0167, -0.0075, -0.0319, -0.0131,\n",
            "         0.0452, -0.0370, -0.0057,  0.0080, -0.0191,  0.0099, -0.0306, -0.0389,\n",
            "         0.0517, -0.0530, -0.0313, -0.0497,  0.0566, -0.0482, -0.0456, -0.0534,\n",
            "        -0.0256, -0.0421, -0.0198,  0.0458,  0.0379, -0.0383,  0.0191, -0.0346,\n",
            "         0.0244, -0.0010, -0.0113,  0.0031,  0.0440,  0.0096,  0.0400,  0.0051,\n",
            "        -0.0596,  0.0364, -0.0614,  0.0363, -0.0277,  0.0281, -0.0170,  0.0223,\n",
            "         0.0473,  0.0541, -0.0563,  0.0142,  0.0364, -0.0552, -0.0441,  0.0126,\n",
            "        -0.0559,  0.0560, -0.0430, -0.0081, -0.0218,  0.0431, -0.0446,  0.0308,\n",
            "         0.0319,  0.0587, -0.0559,  0.0151,  0.0151,  0.0395, -0.0054,  0.0194,\n",
            "        -0.0315, -0.0582, -0.0027,  0.0452, -0.0579, -0.0097, -0.0175,  0.0515],\n",
            "       requires_grad=True), Parameter containing:\n",
            "tensor([[-0.0848, -0.0843, -0.0752,  ..., -0.0449,  0.0800,  0.0303],\n",
            "        [-0.0628,  0.0507, -0.0073,  ...,  0.0255, -0.0139,  0.0017],\n",
            "        [-0.0417,  0.0222, -0.0523,  ..., -0.0557, -0.0107,  0.0515],\n",
            "        ...,\n",
            "        [ 0.0846,  0.0220,  0.0140,  ..., -0.0177, -0.0140, -0.0439],\n",
            "        [-0.0064, -0.0167, -0.0375,  ...,  0.0194, -0.0163, -0.0471],\n",
            "        [ 0.0742,  0.0343,  0.0047,  ..., -0.0599,  0.0789, -0.0414]],\n",
            "       requires_grad=True), Parameter containing:\n",
            "tensor([-0.0870, -0.0842, -0.0412, -0.0159,  0.0071, -0.0073,  0.0708, -0.0115,\n",
            "        -0.0410, -0.0220], requires_grad=True)]\n"
          ]
        }
      ]
    },
    {
      "cell_type": "code",
      "source": [
        "# GPU로 구현\n",
        "# model = model.cuda()"
      ],
      "metadata": {
        "id": "Z41MKU_MJNJ1"
      },
      "execution_count": 8,
      "outputs": []
    },
    {
      "cell_type": "code",
      "source": [
        "def ComputeAccr(dloader, imodel):\n",
        "  correct = 0\n",
        "  total = 0\n",
        "\n",
        "  for j, [imgs, labels] in enumerate(dloader):\n",
        "    img = imgs\n",
        "    label = Variable(labels)\n",
        "    # label = Variable(labels).cuda()\n",
        "\n",
        "    #(batch_size, 1, 28, 28) => (batch_size, 28, 28)\n",
        "    img = img.reshape((img.shape[0], img.shape[2], img.shape[3]))\n",
        "    #(batch_size, 28, 28) => (batch_size, 28 * 28)\n",
        "    img = img.reshape((img.shape[0], img.shape[1] * img.shape[2]))\n",
        "    img = Variable(img, requires_grad=False)  #requires_grad : gradient 연산을 수행할 것인가\n",
        "    # img = Variable(img, requires_grad=False).cuda()\n",
        "\n",
        "    # img.shape -> (1024, 784)\n",
        "\n",
        "    # output_index(y_hat)와 결과만 비교 (BP가 필요없음)\n",
        "    output = imodel(img)  # FP\n",
        "    _, output_index = torch.max(output, 1)\n",
        "\n",
        "    # output.shape -> (1024, 10)\n",
        "\n",
        "    total += label.size(0)  # 데이터 개수\n",
        "    correct += (output_index == label).sum().float()\n",
        "  print(\"Accuracy of Test Data : {}\".format(100*correct/total)) # % 연산"
      ],
      "metadata": {
        "id": "czL1Xv9etrdE"
      },
      "execution_count": 9,
      "outputs": []
    },
    {
      "cell_type": "code",
      "source": [
        "# 학습을 시키지 않았을 때 (label 개수 : 10개 => 1/10 확률)\n",
        "ComputeAccr(test_loader, model)"
      ],
      "metadata": {
        "colab": {
          "base_uri": "https://localhost:8080/"
        },
        "id": "aKJS3TTXuw_4",
        "outputId": "92bcf5bc-eeed-41b1-e582-0d2b2ae2ae82"
      },
      "execution_count": 10,
      "outputs": [
        {
          "output_type": "stream",
          "name": "stdout",
          "text": [
            "Accuracy of Test Data : 10.08029556274414\n"
          ]
        }
      ]
    },
    {
      "cell_type": "code",
      "source": [
        "loss_func = nn.CrossEntropyLoss()\n",
        "optimizer = optim.SGD(model.parameters(), lr = learning_rate)"
      ],
      "metadata": {
        "id": "E7uSGaPAyypc"
      },
      "execution_count": 11,
      "outputs": []
    },
    {
      "cell_type": "code",
      "source": [
        "num_epoch = 400\n",
        "for i in range(num_epoch):\n",
        "  for j, [imgs, labels] in enumerate(train_loader):\n",
        "    img = imgs\n",
        "    label = Variable(labels)\n",
        "\n",
        "    img = img.reshape((img.shape[0], img.shape[2], img.shape[3]))\n",
        "    img = img.reshape((img.shape[0], img.shape[1] * img.shape[2]))\n",
        "    img = Variable(img, requires_grad=True)\n",
        "    #img = Variable(img, requires_grad=True).cuda()\n",
        "\n",
        "    optimizer.zero_grad()\n",
        "    output = model(img)   # FP\n",
        "    loss = loss_func(output, label)\n",
        "\n",
        "    loss.backward()   # BP\n",
        "    optimizer.step()  # w 갱신\n",
        "\n",
        "  if i % 50 == 0:\n",
        "    print(\"%d . .\" % i)\n",
        "    ComputeAccr(test_loader, model)\n",
        "    print(loss)"
      ],
      "metadata": {
        "colab": {
          "base_uri": "https://localhost:8080/"
        },
        "id": "Jzm9ig1Z3Ma3",
        "outputId": "26a82af4-b977-4c6b-e179-2fb629e6a875"
      },
      "execution_count": 12,
      "outputs": [
        {
          "output_type": "stream",
          "name": "stdout",
          "text": [
            "0 . .\n",
            "Accuracy of Test Data : 11.295573234558105\n",
            "tensor(2.2947, grad_fn=<NllLossBackward0>)\n",
            "50 . .\n",
            "Accuracy of Test Data : 80.97872924804688\n",
            "tensor(0.6861, grad_fn=<NllLossBackward0>)\n",
            "100 . .\n",
            "Accuracy of Test Data : 88.17274475097656\n",
            "tensor(0.4348, grad_fn=<NllLossBackward0>)\n",
            "150 . .\n",
            "Accuracy of Test Data : 89.60503387451172\n",
            "tensor(0.3838, grad_fn=<NllLossBackward0>)\n",
            "200 . .\n",
            "Accuracy of Test Data : 90.52734375\n",
            "tensor(0.3281, grad_fn=<NllLossBackward0>)\n",
            "250 . .\n",
            "Accuracy of Test Data : 91.17838287353516\n",
            "tensor(0.2584, grad_fn=<NllLossBackward0>)\n",
            "300 . .\n",
            "Accuracy of Test Data : 91.50390625\n",
            "tensor(0.2990, grad_fn=<NllLossBackward0>)\n",
            "350 . .\n",
            "Accuracy of Test Data : 91.81857299804688\n",
            "tensor(0.2547, grad_fn=<NllLossBackward0>)\n"
          ]
        }
      ]
    },
    {
      "cell_type": "code",
      "source": [
        "ComputeAccr(test_loader, model)"
      ],
      "metadata": {
        "colab": {
          "base_uri": "https://localhost:8080/"
        },
        "id": "3blvMLh14S3_",
        "outputId": "32de920b-5199-4e56-c472-1aa76fc3d1e5"
      },
      "execution_count": 13,
      "outputs": [
        {
          "output_type": "stream",
          "name": "stdout",
          "text": [
            "Accuracy of Test Data : 92.00303649902344\n"
          ]
        }
      ]
    },
    {
      "cell_type": "code",
      "source": [
        "netname = './nets/mip_weight.pkl'\n",
        "torch.save(model, netname,)"
      ],
      "metadata": {
        "id": "3W5Rbh7q4arP"
      },
      "execution_count": 15,
      "outputs": []
    }
  ]
}